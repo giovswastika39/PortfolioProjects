{
 "cells": [
  {
   "cell_type": "markdown",
   "id": "3d528d51",
   "metadata": {},
   "source": [
    "Recommender system is essentially a system/model/algoritm intended to give suggestion of relevant items to the users. \n",
    "It can be movie, music, and many more. Generally speaking, when it comes to the relation between users and service providers or buyers and e-commerce, recommendations will be extremely needed. \n",
    "In the end, decent recommendations will be a win-win solution that benefits both parties as the users are more royal because they got what they wanted and the service providers gained more insight that could be turn to the profit. \n",
    "You may think, how impactful those recommendations are? in fact, it's massive.\n",
    "\n",
    "According to McKindsey, recommendations plays a crucial role in:\n",
    "\n",
    "40% of app installs on Google Play\n",
    "60% of watch time on Youtube\n",
    "35% of puchase on Amazon\n",
    "75% of movies watched on Netflix\n",
    "So, i think its not a bad idea to build one, right?"
   ]
  },
  {
   "cell_type": "code",
   "execution_count": null,
   "id": "a1c56123",
   "metadata": {},
   "outputs": [],
   "source": [
    "pip install colorama\n"
   ]
  },
  {
   "cell_type": "code",
   "execution_count": null,
   "id": "138febb6",
   "metadata": {},
   "outputs": [],
   "source": [
    "import pandas as pd\n",
    "import numpy as np\n",
    "import seaborn as sns\n",
    "import matplotlib.pyplot as plt\n",
    "%matplotlib inline\n",
    "import matplotlib.image as mpimg\n",
    "from sklearn.impute import SimpleImputer\n",
    "\n",
    "import math\n",
    "import plotly.express as px\n",
    "import plotly.graph_objects as go\n",
    "import missingno as msno\n",
    "from matplotlib.offsetbox import (TextArea, DrawingArea, OffsetImage,\n",
    "                                  AnnotationBbox)\n",
    "from plotly.colors import n_colors\n",
    "from plotly.subplots import make_subplots\n",
    "from IPython.display import Image\n",
    "from colorama import Fore, Back, Style\n",
    "m_ = Fore.MAGENTA\n",
    "b_ = Fore.BLUE\n",
    "y_ = Fore.YELLOW\n",
    "r_ = Fore.RED\n",
    "g_ = Fore.GREEN\n",
    "\n",
    "sr_ = Style.RESET_ALL"
   ]
  },
  {
   "cell_type": "markdown",
   "id": "c0cf1b0d",
   "metadata": {},
   "source": [
    "Exploratory Data Analysis\n",
    "\n",
    "First thing first, there's always an EDA to give us a sense of what data we are dealing with. \n",
    "It's also useful to acquire some insights, informations, and even mistakes from data."
   ]
  },
  {
   "cell_type": "code",
   "execution_count": null,
   "id": "6cf1764c",
   "metadata": {},
   "outputs": [],
   "source": [
    "data = pd.read_csv(r\"C:\\Users\\vivih\\Downloads\\MoviesOnStreamingPlatforms_updated.csv\")\n",
    "data_tv = pd.read_csv(r\"C:\\Users\\vivih\\Downloads\\tv_shows.csv\")"
   ]
  },
  {
   "cell_type": "code",
   "execution_count": null,
   "id": "8294b634",
   "metadata": {},
   "outputs": [],
   "source": [
    "data.head()"
   ]
  },
  {
   "cell_type": "code",
   "execution_count": null,
   "id": "7bd5e869",
   "metadata": {},
   "outputs": [],
   "source": [
    "#Remove \"Unnamed\" \n",
    "data=data.drop(\"Unnamed: 0\",axis=1)\n",
    "data.head()"
   ]
  },
  {
   "cell_type": "code",
   "execution_count": null,
   "id": "9be4378c",
   "metadata": {},
   "outputs": [],
   "source": [
    "data.describe(include='all')"
   ]
  },
  {
   "cell_type": "code",
   "execution_count": null,
   "id": "3463596f",
   "metadata": {},
   "outputs": [],
   "source": [
    "data.info()"
   ]
  },
  {
   "cell_type": "code",
   "execution_count": null,
   "id": "43ae4064",
   "metadata": {},
   "outputs": [],
   "source": [
    "#Check for total no.of null values in each column \n",
    "data.isna().sum()"
   ]
  },
  {
   "cell_type": "code",
   "execution_count": null,
   "id": "dd509a17",
   "metadata": {},
   "outputs": [],
   "source": [
    "#Removing the Target value\n",
    "data = data[data['IMDb'].notna()]"
   ]
  },
  {
   "cell_type": "code",
   "execution_count": null,
   "id": "332e9935",
   "metadata": {},
   "outputs": [],
   "source": [
    "#Visualizing the amount of missing data\n",
    "msno.bar(data ,color='grey', figsize=(10, 4))"
   ]
  },
  {
   "cell_type": "code",
   "execution_count": null,
   "id": "7bbc5265",
   "metadata": {},
   "outputs": [],
   "source": [
    "#Dropping \"Rotten Tomatoes\" for its excessively low data \n",
    "data = data.drop(['Rotten Tomatoes'], axis=1)\n",
    "\n",
    "#\"Title\" and \"Type\" are dropped as it is irrelevant for our prediction.\n",
    "data = data.drop(['Title','Type'], axis=1)\n",
    "data.isna().sum()"
   ]
  },
  {
   "cell_type": "code",
   "execution_count": null,
   "id": "85473d6b",
   "metadata": {},
   "outputs": [],
   "source": [
    "#Checking unique values in \"Age\" \n",
    "data['Age'].unique()"
   ]
  },
  {
   "cell_type": "code",
   "execution_count": null,
   "id": "3fe3780f",
   "metadata": {},
   "outputs": [],
   "source": [
    "#Imputing null values in \"Age\" with \"all\"\n",
    "imputer = SimpleImputer(missing_values=np.nan, strategy='constant', fill_value=\"all\")\n",
    "data[\"Age\"] = imputer.fit_transform(data[[\"Age\"]]).ravel()\n",
    "\n",
    "data.isna().sum()"
   ]
  },
  {
   "cell_type": "code",
   "execution_count": null,
   "id": "b3afd3f6",
   "metadata": {},
   "outputs": [],
   "source": [
    "#Dropping all the rows(entries) where there are celss with no data \n",
    "data.dropna(axis=0, how='any',inplace=True)\n",
    "\n",
    "data.isna().sum()"
   ]
  },
  {
   "cell_type": "code",
   "execution_count": null,
   "id": "120f1a13",
   "metadata": {},
   "outputs": [],
   "source": [
    "#Visualizing if there is anymore missing data or not\n",
    "msno.bar(data ,color='grey', figsize=(10, 4))"
   ]
  },
  {
   "cell_type": "code",
   "execution_count": null,
   "id": "225a9b8f",
   "metadata": {},
   "outputs": [],
   "source": [
    "data.info()"
   ]
  },
  {
   "cell_type": "code",
   "execution_count": null,
   "id": "15b809c5",
   "metadata": {},
   "outputs": [],
   "source": [
    "data_tv.head()"
   ]
  },
  {
   "cell_type": "code",
   "execution_count": null,
   "id": "1997ca12",
   "metadata": {},
   "outputs": [],
   "source": [
    "#Remove \"Unnamed\" \n",
    "data_tv=data_tv.drop(\"Unnamed: 0\",axis=1)\n",
    "data_tv.head()"
   ]
  },
  {
   "cell_type": "code",
   "execution_count": null,
   "id": "14136313",
   "metadata": {},
   "outputs": [],
   "source": [
    "data_tv.info"
   ]
  },
  {
   "cell_type": "code",
   "execution_count": null,
   "id": "77236ee9",
   "metadata": {},
   "outputs": [],
   "source": [
    "data_tv.isna().sum()"
   ]
  },
  {
   "cell_type": "code",
   "execution_count": null,
   "id": "fa19d289",
   "metadata": {},
   "outputs": [],
   "source": [
    "#Dropping all the rows(entries) where there are celss with no data \n",
    "data_tv.dropna(axis=0, how='any',inplace=True)\n",
    "\n",
    "data_tv.isna().sum()"
   ]
  },
  {
   "cell_type": "code",
   "execution_count": null,
   "id": "52180012",
   "metadata": {},
   "outputs": [],
   "source": [
    "#Visualizing if there is anymore missing data or not\n",
    "msno.bar(data_tv ,color='grey', figsize=(10, 4))"
   ]
  },
  {
   "cell_type": "markdown",
   "id": "0bb2221c",
   "metadata": {},
   "source": [
    "Feature Generation"
   ]
  },
  {
   "cell_type": "code",
   "execution_count": null,
   "id": "39c5e8ba",
   "metadata": {},
   "outputs": [],
   "source": [
    "def splitting(dataframe,col):\n",
    "    result = dataframe[col].str.get_dummies(',')\n",
    "    print('Done!')\n",
    "    return result"
   ]
  },
  {
   "cell_type": "code",
   "execution_count": null,
   "id": "591aede7",
   "metadata": {},
   "outputs": [],
   "source": [
    "m_genres = splitting(data,'Genres')\n",
    "m_lang = splitting(data,'Language')"
   ]
  },
  {
   "cell_type": "markdown",
   "id": "95bbeef4",
   "metadata": {},
   "source": [
    "TV Shows and Movie per platform"
   ]
  },
  {
   "cell_type": "code",
   "execution_count": null,
   "id": "3c8f5b6d",
   "metadata": {},
   "outputs": [],
   "source": [
    "def val_sum(data,c):\n",
    "    return data[c].sum(axis=0)"
   ]
  },
  {
   "cell_type": "code",
   "execution_count": null,
   "id": "1e0984d5",
   "metadata": {},
   "outputs": [],
   "source": [
    "val_counts = []\n",
    "datas = [data,data_tv]\n",
    "cols = ['Netflix','Hulu','Prime Video','Disney+']\n",
    "\n",
    "for x in datas:\n",
    "    for y in cols:\n",
    "        val_counts.append(val_sum(x,y))"
   ]
  },
  {
   "cell_type": "code",
   "execution_count": null,
   "id": "6d52d73c",
   "metadata": {},
   "outputs": [],
   "source": [
    "val_counts"
   ]
  },
  {
   "cell_type": "markdown",
   "id": "d5777a5b",
   "metadata": {},
   "source": [
    "Custom Color Palatte"
   ]
  },
  {
   "cell_type": "code",
   "execution_count": null,
   "id": "a447b4a5",
   "metadata": {},
   "outputs": [],
   "source": [
    "custom_colors = [\"#ff6B89\",\"#95d5ad\",\"#a2bbff\",\"#c6f8f1\"]\n",
    "customPalette = sns.set_palette(sns.color_palette(custom_colors))"
   ]
  },
  {
   "cell_type": "code",
   "execution_count": null,
   "id": "2798d43c",
   "metadata": {},
   "outputs": [],
   "source": [
    "sns.palplot(sns.color_palette(custom_colors),size=1)"
   ]
  },
  {
   "cell_type": "code",
   "execution_count": null,
   "id": "da8236b8",
   "metadata": {},
   "outputs": [],
   "source": [
    "netflix_p = sns.light_palette(custom_colors[0], reverse=True)\n",
    "sns.palplot(sns.color_palette(netflix_p),size=1)"
   ]
  },
  {
   "cell_type": "code",
   "execution_count": null,
   "id": "abae90dd",
   "metadata": {},
   "outputs": [],
   "source": [
    "hulu_p = sns.light_palette(custom_colors[1], reverse=True)\n",
    "sns.palplot(sns.color_palette(hulu_p),size=1)"
   ]
  },
  {
   "cell_type": "code",
   "execution_count": null,
   "id": "5fed7225",
   "metadata": {},
   "outputs": [],
   "source": [
    "prime_p = sns.light_palette(custom_colors[2], reverse=True)\n",
    "sns.palplot(sns.color_palette(prime_p),size=1)"
   ]
  },
  {
   "cell_type": "code",
   "execution_count": null,
   "id": "8cd23804",
   "metadata": {},
   "outputs": [],
   "source": [
    "disney_p = sns.dark_palette(custom_colors[3], reverse=True)\n",
    "sns.palplot(sns.color_palette(disney_p),size=1)"
   ]
  },
  {
   "cell_type": "code",
   "execution_count": null,
   "id": "546e5e61",
   "metadata": {},
   "outputs": [],
   "source": [
    "def donut(i,data,sizes,title):\n",
    "    plt.subplot(i)\n",
    "    plt.pie(sizes, explode=explode, labels=labels, colors=colors,\n",
    "                autopct='%1.1f%%', shadow=True)\n",
    "\n",
    "    centre_circle = plt.Circle((0,0),0.5,color='black', fc='white',linewidth=1.25)\n",
    "    fig = plt.gcf()\n",
    "    fig.gca().add_artist(centre_circle)\n",
    "    plt.title(title)\n",
    "    plt.axis('equal')"
   ]
  },
  {
   "cell_type": "code",
   "execution_count": null,
   "id": "2137e300",
   "metadata": {},
   "outputs": [],
   "source": [
    "fig = plt.subplots(figsize=(16, 8))\n",
    "labels = 'Netflix', 'Hulu','Prime','Disney+'\n",
    "sizes1 = [val_counts[0], val_counts[1],val_counts[2],val_counts[3]]\n",
    "sizes2 = [val_counts[4], val_counts[5],val_counts[6],val_counts[7]]\n",
    "colors = custom_colors\n",
    "explode = (0, 0, 0, 0) \n",
    "\n",
    "donut(121,data,sizes1,'Movies')\n",
    "donut(122,data_tv,sizes2,'TV shows')\n",
    "plt.show()"
   ]
  },
  {
   "cell_type": "markdown",
   "id": "5023d9c7",
   "metadata": {},
   "source": [
    " Prime has the maximum number of movies and Netflix has the maximum number of tv shows!"
   ]
  },
  {
   "cell_type": "code",
   "execution_count": null,
   "id": "169c799b",
   "metadata": {},
   "outputs": [],
   "source": [
    "fig = make_subplots(rows=1, cols=2)\n",
    "\n",
    "fig.add_trace(go.Indicator(\n",
    "    mode = \"number\",\n",
    "    value = 4113,\n",
    "    number={'font':{'color': custom_colors[2],'size':100}},\n",
    "    title = {\"text\": \"Movies<br><span style='font-size:0.8em;color:gray'>On Prime Video</span>\"},\n",
    "    domain = {'x': [0, 0.5], 'y': [0.6, 1]}))\n",
    "\n",
    "fig.add_trace(go.Indicator(\n",
    "    mode = \"number\",\n",
    "    value = 1971,\n",
    "    number={'font':{'color': custom_colors[2],'size':100}},\n",
    "    title = {\"text\": \"TV Shows<br><span style='font-size:0.8em;color:gray'>On Netflix</span>\"},\n",
    "    domain = {'x': [0.5, 1], 'y': [0, 0.4]}))\n",
    "\n",
    "fig.show()"
   ]
  }
 ],
 "metadata": {
  "kernelspec": {
   "display_name": "Python 3 (ipykernel)",
   "language": "python",
   "name": "python3"
  },
  "language_info": {
   "codemirror_mode": {
    "name": "ipython",
    "version": 3
   },
   "file_extension": ".py",
   "mimetype": "text/x-python",
   "name": "python",
   "nbconvert_exporter": "python",
   "pygments_lexer": "ipython3",
   "version": "3.9.12"
  }
 },
 "nbformat": 4,
 "nbformat_minor": 5
}
